{
  "cells": [
    {
      "cell_type": "markdown",
      "metadata": {
        "id": "view-in-github",
        "colab_type": "text"
      },
      "source": [
        "<a href=\"https://colab.research.google.com/github/YastrebOlga/JS-base/blob/main/Untitled0.ipynb\" target=\"_parent\"><img src=\"https://colab.research.google.com/assets/colab-badge.svg\" alt=\"Open In Colab\"/></a>"
      ]
    },
    {
      "cell_type": "code",
      "execution_count": null,
      "metadata": {
        "colab": {
          "base_uri": "https://localhost:8080/"
        },
        "id": "pJx347_CY4bE",
        "outputId": "37a69a38-aa9e-435a-91ad-a63a8000a02f"
      },
      "outputs": [
        {
          "name": "stdout",
          "output_type": "stream",
          "text": [
            "Введите ваше имя: Ольга\n",
            "Введите ваш возвраст: 23\n",
            "Привет, Ольга! Тебе 23 лет!\n"
          ]
        }
      ],
      "source": [
        "name = input(\"Введите ваше имя: \")\n",
        "age = int(input(\"Введите ваш возвраст: \"))\n",
        "\n",
        "print(\"Привет, {}! Тебе {} лет!\".format(name, age))"
      ]
    },
    {
      "cell_type": "code",
      "execution_count": null,
      "metadata": {
        "colab": {
          "base_uri": "https://localhost:8080/"
        },
        "id": "oYz478L0aHlL",
        "outputId": "c45192b9-7713-4ef0-deaa-85d16973218d"
      },
      "outputs": [
        {
          "name": "stdout",
          "output_type": "stream",
          "text": [
            "Введите ваше имя: 12\n",
            "Введите ваш возвраст: 12\n",
            "Возвраст меньше 18\n"
          ]
        }
      ],
      "source": [
        "name = input(\"Введите ваше имя: \")\n",
        "age = int(input(\"Введите ваш возвраст: \"))\n",
        "if age > 18:\n",
        "  print(\"Привет, {}! Тебе {} лет!\".format(name, age))\n",
        "else:\n",
        "  print(\"Возвраст меньше 18\")"
      ]
    },
    {
      "cell_type": "code",
      "execution_count": null,
      "metadata": {
        "colab": {
          "base_uri": "https://localhost:8080/"
        },
        "id": "f92Z-2fHa6by",
        "outputId": "94428839-a335-4144-c5f7-7d693a0b0e0b"
      },
      "outputs": [
        {
          "name": "stdout",
          "output_type": "stream",
          "text": [
            "Напишите сколько гостей?: 8\n",
            "Вы счастливый обладатель кусочка тората\n"
          ]
        }
      ],
      "source": [
        "а = int(input(\"Напишите сколько гостей?: \"))\n",
        "b = 8 % а\n",
        "if (b ) == 0:\n",
        "  print(\"Вы счастливый обладатель кусочка тората\")\n",
        "else:\n",
        "  print(\"Увы! Торт закончился\")"
      ]
    },
    {
      "cell_type": "code",
      "execution_count": null,
      "metadata": {
        "colab": {
          "base_uri": "https://localhost:8080/"
        },
        "id": "YamNX1wUd24F",
        "outputId": "d578b999-5ada-441d-cd46-40626e4156ad"
      },
      "outputs": [
        {
          "name": "stdout",
          "output_type": "stream",
          "text": [
            "Который у Вас час?: 8\n",
            "Доброй ночи!\n"
          ]
        }
      ],
      "source": [
        "time = int(input(\"Который у Вас час?: \"))\n",
        "\n",
        "if time >= 11:\n",
        "  print(\"Доброе утро!\")\n",
        "elif time >= 18:\n",
        "  print(\"Добрый день!\")\n",
        "else:\n",
        "  print(\"Доброй ночи!\")\n"
      ]
    },
    {
      "cell_type": "code",
      "execution_count": null,
      "metadata": {
        "colab": {
          "base_uri": "https://localhost:8080/",
          "height": 173
        },
        "id": "eIq_kZj3hkNz",
        "outputId": "60f13434-55dc-4f52-9a6a-6b6af88c24f9"
      },
      "outputs": [
        {
          "ename": "TypeError",
          "evalue": "'str' object is not callable",
          "output_type": "error",
          "traceback": [
            "\u001b[0;31m---------------------------------------------------------------------------\u001b[0m",
            "\u001b[0;31mTypeError\u001b[0m                                 Traceback (most recent call last)",
            "\u001b[0;32m<ipython-input-49-48e40a8e9c41>\u001b[0m in \u001b[0;36m<cell line: 3>\u001b[0;34m()\u001b[0m\n\u001b[1;32m      1\u001b[0m \u001b[0mspisok\u001b[0m \u001b[0;34m=\u001b[0m \u001b[0;34m[\u001b[0m\u001b[0;34m\"Иван\"\u001b[0m\u001b[0;34m,\u001b[0m\u001b[0;34m\"Юлия\"\u001b[0m\u001b[0;34m,\u001b[0m\u001b[0;34m\"Анна\"\u001b[0m\u001b[0;34m,\u001b[0m \u001b[0;34m\"Федор\"\u001b[0m\u001b[0;34m,\u001b[0m \u001b[0;34m\"Мария\"\u001b[0m\u001b[0;34m]\u001b[0m\u001b[0;34m\u001b[0m\u001b[0;34m\u001b[0m\u001b[0m\n\u001b[1;32m      2\u001b[0m \u001b[0;34m\u001b[0m\u001b[0m\n\u001b[0;32m----> 3\u001b[0;31m \u001b[0mprint\u001b[0m\u001b[0;34m(\u001b[0m\u001b[0mspisok\u001b[0m\u001b[0;34m)\u001b[0m\u001b[0;34m\u001b[0m\u001b[0;34m\u001b[0m\u001b[0m\n\u001b[0m",
            "\u001b[0;31mTypeError\u001b[0m: 'str' object is not callable"
          ]
        }
      ],
      "source": []
    },
    {
      "cell_type": "code",
      "source": [
        "spisok = [\"Иван\",\"Юлия\",\"Анна\", \"Федор\", \"Мария\"]\n",
        "print(spisok)"
      ],
      "metadata": {
        "id": "B4ACosN4lofQ",
        "outputId": "f55f58e1-dc5f-4321-b5ce-0d57d9fb645d",
        "colab": {
          "base_uri": "https://localhost:8080/",
          "height": 190
        }
      },
      "execution_count": null,
      "outputs": [
        {
          "output_type": "error",
          "ename": "TypeError",
          "evalue": "'str' object is not callable",
          "traceback": [
            "\u001b[0;31m---------------------------------------------------------------------------\u001b[0m",
            "\u001b[0;31mTypeError\u001b[0m                                 Traceback (most recent call last)",
            "\u001b[0;32m<ipython-input-54-9ecfe3936e5f>\u001b[0m in \u001b[0;36m<cell line: 2>\u001b[0;34m()\u001b[0m\n\u001b[1;32m      1\u001b[0m \u001b[0mspisok\u001b[0m \u001b[0;34m=\u001b[0m \u001b[0;34m[\u001b[0m\u001b[0;34m\"Иван\"\u001b[0m\u001b[0;34m,\u001b[0m\u001b[0;34m\"Юлия\"\u001b[0m\u001b[0;34m,\u001b[0m\u001b[0;34m\"Анна\"\u001b[0m\u001b[0;34m,\u001b[0m \u001b[0;34m\"Федор\"\u001b[0m\u001b[0;34m,\u001b[0m \u001b[0;34m\"Мария\"\u001b[0m\u001b[0;34m]\u001b[0m\u001b[0;34m\u001b[0m\u001b[0;34m\u001b[0m\u001b[0m\n\u001b[0;32m----> 2\u001b[0;31m \u001b[0mprint\u001b[0m\u001b[0;34m(\u001b[0m\u001b[0mspisok\u001b[0m\u001b[0;34m)\u001b[0m\u001b[0;34m\u001b[0m\u001b[0;34m\u001b[0m\u001b[0m\n\u001b[0m",
            "\u001b[0;31mTypeError\u001b[0m: 'str' object is not callable"
          ]
        }
      ]
    },
    {
      "cell_type": "code",
      "source": [
        "spisok = [\"Иван\",\"Юлия\",\"Анна\", \"Федор\", \"Мария\"]\n",
        "print(spisok)"
      ],
      "metadata": {
        "colab": {
          "base_uri": "https://localhost:8080/"
        },
        "id": "PQP4Fux9mHP-",
        "outputId": "90da343d-099b-4aff-8df7-5b0ef35074bc"
      },
      "execution_count": null,
      "outputs": [
        {
          "output_type": "stream",
          "name": "stdout",
          "text": [
            "['Иван', 'Юлия', 'Анна', 'Федор', 'Мария']\n"
          ]
        }
      ]
    },
    {
      "cell_type": "code",
      "source": [
        "user = [\"Иван\",\"Юлия\",\"Анна\", \"Федор\", \"Мария\"]\n",
        "name = input(\"Введите Ваше имя: \")\n",
        "if name in user:\n",
        "  print(\"Имя есть в списке!\")\n",
        "else:\n",
        "  user.append( name)\n",
        "  print(user)"
      ],
      "metadata": {
        "colab": {
          "base_uri": "https://localhost:8080/"
        },
        "id": "8JRdeFIxmXmZ",
        "outputId": "b8adab16-f237-4018-f18a-47267515a5ab"
      },
      "execution_count": null,
      "outputs": [
        {
          "output_type": "stream",
          "name": "stdout",
          "text": [
            "Введите Ваше имя: Иван\n",
            "Имя есть в списке!\n"
          ]
        }
      ]
    },
    {
      "cell_type": "code",
      "source": [
        "\n",
        "time = int(input(\"Введите час от 0 до 23: \"))\n",
        "if 0 <= time < 11:\n",
        "  print(\"Доброе утро!\")\n",
        "elif 6 <= time < 11:\n",
        "  print(\"Добрый день!\")\n",
        "elif 12 <= time < 18:\n",
        "  print(\"Добрый вечер!\")\n",
        "else:\n",
        "  print(\"Доброй ночи!\")"
      ],
      "metadata": {
        "id": "GmmmGK9gqlZh"
      },
      "execution_count": null,
      "outputs": []
    },
    {
      "cell_type": "code",
      "source": [
        "# Ввод текущего времени от пользователя\n",
        "current_time = int(input(\"Введите текущее время (в часах, от 0 до 23): \"))\n",
        "\n",
        "while current_time > 23 or current_time < 0:\n",
        "  current_time = int(input(\"Введите текущее время (в часах, от 0 до 23): \"))\n",
        "\n",
        "# Определение времени суток\n",
        "if 0 <= current_time < 6:\n",
        "    print(\"Доброй ночи!\")\n",
        "elif 6 <= current_time < 12:\n",
        "    print(\"Доброе утро!\")\n",
        "elif 12 <= current_time < 18:\n",
        "    print(\"Добрый день!\")\n",
        "else:\n",
        "    print(\"Добрый вечер!\")\n"
      ],
      "metadata": {
        "colab": {
          "base_uri": "https://localhost:8080/"
        },
        "id": "UvhQJmfBsEwM",
        "outputId": "a9d5c462-4add-4e8a-9096-c6692a9657bd"
      },
      "execution_count": 2,
      "outputs": [
        {
          "output_type": "stream",
          "name": "stdout",
          "text": [
            "Введите текущее время (в часах, от 0 до 23): 12\n",
            "Добрый день!\n"
          ]
        }
      ]
    },
    {
      "cell_type": "code",
      "source": [
        "def greet(name):\n",
        "    print(\"Привет, \" + name + \"!\")\n",
        "greet(\"Анна\")"
      ],
      "metadata": {
        "colab": {
          "base_uri": "https://localhost:8080/"
        },
        "id": "RiDkQmuYwDkX",
        "outputId": "ffe76d72-6a87-4da6-f4ec-e4565d32c29c"
      },
      "execution_count": 3,
      "outputs": [
        {
          "output_type": "stream",
          "name": "stdout",
          "text": [
            "Привет, Анна!\n"
          ]
        }
      ]
    },
    {
      "cell_type": "code",
      "source": [
        "# Пример функции с возвращаемым значением\n",
        "def add_numbers(a, b):\n",
        "    \"\"\"Функция сложения двух чисел\"\"\"\n",
        "    return a + b\n",
        "\n",
        "# Вызов функции и сохранение результата\n",
        "result = add_numbers(3, 5)\n",
        "print(\"Сумма чисел:\", result)"
      ],
      "metadata": {
        "colab": {
          "base_uri": "https://localhost:8080/"
        },
        "id": "YKcei2UvxDP2",
        "outputId": "b8db9032-5271-49e3-a76e-bcfa5e196553"
      },
      "execution_count": 4,
      "outputs": [
        {
          "output_type": "stream",
          "name": "stdout",
          "text": [
            "Сумма чисел: 8\n"
          ]
        }
      ]
    },
    {
      "cell_type": "code",
      "source": [
        "# Функция с обязательным аргументом\n",
        "def square(number):\n",
        "    return number ** 2\n",
        "\n",
        "# Функция с аргументом по умолчанию\n",
        "def power(base, exponent=2):\n",
        "    return base ** exponent\n",
        "\n",
        "# Функция с переменным числом аргументов\n",
        "def print_args( *args):\n",
        "    for arg in args:\n",
        "        print(arg)\n",
        "\n",
        "# Вызов функций\n",
        "print(square(4))           # Вывод: 16\n",
        "print(power(3))             # Вывод: 9\n",
        "print_args(1, 2, \"Hello\")   # Вывод: 1 2 Hello"
      ],
      "metadata": {
        "colab": {
          "base_uri": "https://localhost:8080/"
        },
        "id": "LZMx4ICaxf25",
        "outputId": "9e0f2165-fa01-4671-90f6-baff31e6c43a"
      },
      "execution_count": 7,
      "outputs": [
        {
          "output_type": "stream",
          "name": "stdout",
          "text": [
            "16\n",
            "9\n",
            "1\n",
            "2\n",
            "Hello\n"
          ]
        }
      ]
    },
    {
      "cell_type": "code",
      "source": [
        "def flt(numbers):\n",
        "  res_l = []\n",
        "  for num in numbers:\n",
        "    if num % 2 == 0 and num not in res_l:\n",
        "      res_l.append(num)\n",
        "  res_l.sort()\n",
        "  return res_l\n",
        "\n",
        "test_l = [4, 4, 2, 1, 3, 2, 6, 5, 6, 8]\n",
        "print(flt(test_l))\n"
      ],
      "metadata": {
        "colab": {
          "base_uri": "https://localhost:8080/"
        },
        "id": "DkHZjIkuzAKU",
        "outputId": "8a8479c0-8ba4-4ca1-970f-a569545b0c03"
      },
      "execution_count": 39,
      "outputs": [
        {
          "output_type": "stream",
          "name": "stdout",
          "text": [
            "[2, 4, 6, 8]\n"
          ]
        }
      ]
    }
  ],
  "metadata": {
    "colab": {
      "provenance": [],
      "authorship_tag": "ABX9TyPAty47GjuUNMxvpJsCpXsZ",
      "include_colab_link": true
    },
    "kernelspec": {
      "display_name": "Python 3",
      "name": "python3"
    },
    "language_info": {
      "name": "python"
    }
  },
  "nbformat": 4,
  "nbformat_minor": 0
}